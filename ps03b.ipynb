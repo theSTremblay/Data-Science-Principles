{
 "cells": [
  {
   "cell_type": "code",
   "execution_count": null,
   "metadata": {},
   "outputs": [],
   "source": [
    "### Put your NAME and EID here:"
   ]
  },
  {
   "cell_type": "markdown",
   "metadata": {},
   "source": [
    "# Problem Set 03b"
   ]
  },
  {
   "cell_type": "markdown",
   "metadata": {},
   "source": [
    "Make sure you have the following packages installed for Python3:\n",
    "\n",
    "- scikit-learn\n",
    "- numpy\n",
    "- matplotlib"
   ]
  },
  {
   "cell_type": "code",
   "execution_count": null,
   "metadata": {},
   "outputs": [],
   "source": [
    "# imports needed\n",
    "import numpy as np\n",
    "import matplotlib.pyplot as plt\n",
    "\n",
    "# setting seed, DON'T modify\n",
    "np.random.seed(10)\n",
    "from pylab import rcParams\n",
    "rcParams['figure.figsize'] = 10, 7"
   ]
  },
  {
   "cell_type": "markdown",
   "metadata": {},
   "source": [
    "## Problem 1: Classifying Boston Dataset"
   ]
  },
  {
   "cell_type": "markdown",
   "metadata": {},
   "source": [
    "### Part A.\n",
    "\n",
    "In this homework, you will be getting hands on experience on training your own linear classifiers. To do this will be working with the [Boston dataset](https://www.cs.toronto.edu/~delve/data/boston/bostonDetail.html). \n",
    "\n",
    "Luckily, scikit-learn has this dataset available to use. This part will have you setup their dataset to be used for classification:\n",
    "\n",
    "- First, download the boston dataset from **scikit-learn**.\n",
    "    - They should have a module that allows you to download it directly: [load_boston](https://scikit-learn.org/stable/modules/generated/sklearn.datasets.load_boston.html)\n",
    "    - After calling **load_boston()**, it should return a dictionary-like object that contains information.\n",
    "    - The data itself is found in the **.data** item in the dictionary.\n",
    "    \n",
    "- Notice that .data has shape **(506,13)**. It does not have any given labels, but we will create our own synthetic labels.\n",
    "    - Extract the first column from this matrix (i.e. index 0). \n",
    "    - Calculate the median of this column.\n",
    "    \n",
    "- Now we will assign our own **y** based on the following:\n",
    "    - Assign a class of **0** to each sample (row) if the first column is **less than** the above median.\n",
    "    - Assign **1** otherwise (i.e. it has a value **greater than or equal to** the median).\n",
    "    \n",
    "- Finally, we will define our dataset:\n",
    "    - **X**: all data samples using every feature **EXCEPT** for the first column. \n",
    "        - This should have shape (506,12)\n",
    "    - **y**: created from the previous step.\n",
    "\n",
    "Useful modules:\n",
    "    - sklearn.datasets.load_boston\n",
    "    - np.median\n"
   ]
  },
  {
   "cell_type": "code",
   "execution_count": null,
   "metadata": {},
   "outputs": [],
   "source": []
  },
  {
   "cell_type": "markdown",
   "metadata": {},
   "source": [
    "### Part B.\n",
    "\n",
    "Now we will train two separate classifiers for this task -- Logistic Regression and Linear Discriminant Analysis, using scikit-learn.\n",
    "\n",
    "- As usual, divide X,y into separate training/testing sets.\n",
    "    - Use the **first 400 samples** as **Xtrain, ytrain**\n",
    "    - Use the **next 106 samples** as **Xtest, ytest**\n",
    "    \n",
    "- Now create a logistic regression model using scikit-learn, and train it on the **training set**.\n",
    "    - This will be similar to the previous homework, but using their logistic regression module.\n",
    "    - Only use the default parameters (i.e. don't pass any extra parameters to the scikit-learn module)\n",
    "    - Measure the following **prediction error** i.e. (1-accuracy) on the **test set**.\n",
    "    \n",
    "- Now create an LDA model using scikit-learn, and repeat the steps above.\n",
    "\n",
    "- For ease of grading, please create a **bar chart** that shows the error of both the LogisticRegression and LDA models. \n",
    "    - Make sure to label each bar accordingly and include a legend.\n",
    "\n",
    "Useful modules:\n",
    "    - sklearn.linear_model.LogisticRegression\n",
    "    - sklearn.discriminant_analysis.LinearDiscriminantAnalysis\n",
    "    - plt.bar\n",
    "    - plt.legend\n"
   ]
  },
  {
   "cell_type": "code",
   "execution_count": null,
   "metadata": {},
   "outputs": [],
   "source": []
  },
  {
   "cell_type": "markdown",
   "metadata": {},
   "source": [
    "### Part C.\n",
    "\n",
    "For this last section, we will be running an experiment that measures the effect of the # of training samples vs. the test set error. \n",
    "\n",
    "**Note:** In this section, make sure to keep your **test set constant**, and only do the following operations on the **train set**.\n",
    "\n",
    "Let our possible $n = [100,200,300,400]$. For **BOTH** LogisticRegression and LDA, and for each $n$, do the following:\n",
    "\n",
    "- Take a random sample from the training set of size $n$. Assign these to new variables, do not overwrite the original training set.\n",
    "\n",
    "- Now train your model using this smaller random sample. \n",
    "\n",
    "- Collect the **test prediction error**. \n",
    "\n",
    "- Now, repeat the above steps **10 times**. Find the mean for these prediction error samples, and the standard deviation.\n",
    "\n",
    "Once you have collected the mean prediction error and standard deviations for each $n$ and for each model you will now visualize:\n",
    "\n",
    "- Create a bar plot with the **x-axis** as $n$ and the **y-axis** mean test prediction error.\n",
    "\n",
    "- This bar plot should contain the following:\n",
    "    - Two bars for each $n$, one for LogisticRegression, the other LDA. Make them different colors.\n",
    "    - In addition add in **error bars** based on your computed standard deviations.\n",
    "    - Include a legend, and axis titles.\n",
    "\n",
    "Useful modules:\n",
    "    - sklearn.linear_model.LogisticRegression\n",
    "    - sklearn.discriminant_analysis.LinearDiscriminantAnalysis\n",
    "    - np.std\n",
    "    - np.mean\n",
    "    - plt.bar\n",
    "    - plt.legend\n"
   ]
  },
  {
   "cell_type": "code",
   "execution_count": null,
   "metadata": {},
   "outputs": [],
   "source": []
  },
  {
   "cell_type": "markdown",
   "metadata": {},
   "source": [
    "## Turn in Instructions"
   ]
  },
  {
   "cell_type": "markdown",
   "metadata": {},
   "source": [
    "Once you have completed Problems 1 and 2, please submit (for this part of the assignment):\n",
    "\n",
    "- This .ipynb file.\n",
    "- A PDF version of this file. To do this:\n",
    "    1. Go to File -> Download as -> HTML\n",
    "    2. Open the HTML and Print, and change the **destination** to **PDF**."
   ]
  }
 ],
 "metadata": {
  "kernelspec": {
   "display_name": "Python 3",
   "language": "python",
   "name": "python3"
  },
  "language_info": {
   "codemirror_mode": {
    "name": "ipython",
    "version": 3
   },
   "file_extension": ".py",
   "mimetype": "text/x-python",
   "name": "python",
   "nbconvert_exporter": "python",
   "pygments_lexer": "ipython3",
   "version": "3.6.4"
  }
 },
 "nbformat": 4,
 "nbformat_minor": 2
}
