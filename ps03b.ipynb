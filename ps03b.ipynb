{
 "cells": [
  {
   "cell_type": "code",
   "execution_count": 1,
   "metadata": {},
   "outputs": [],
   "source": [
    "### Put your NAME and EID here:smt2868 Sean Tremblay "
   ]
  },
  {
   "cell_type": "markdown",
   "metadata": {},
   "source": [
    "# Problem Set 03b"
   ]
  },
  {
   "cell_type": "markdown",
   "metadata": {},
   "source": [
    "Make sure you have the following packages installed for Python3:\n",
    "\n",
    "- scikit-learn\n",
    "- numpy\n",
    "- matplotlib"
   ]
  },
  {
   "cell_type": "code",
   "execution_count": 2,
   "metadata": {},
   "outputs": [],
   "source": [
    "# imports needed\n",
    "import numpy as np\n",
    "import matplotlib.pyplot as plt\n",
    "\n",
    "# setting seed, DON'T modify\n",
    "np.random.seed(10)\n",
    "from pylab import rcParams\n",
    "rcParams['figure.figsize'] = 10, 7"
   ]
  },
  {
   "cell_type": "markdown",
   "metadata": {},
   "source": [
    "## Problem 1: Classifying Boston Dataset"
   ]
  },
  {
   "cell_type": "markdown",
   "metadata": {},
   "source": [
    "### Part A.\n",
    "\n",
    "In this homework, you will be getting hands on experience on training your own linear classifiers. To do this will be working with the [Boston dataset](https://www.cs.toronto.edu/~delve/data/boston/bostonDetail.html). \n",
    "\n",
    "Luckily, scikit-learn has this dataset available to use. This part will have you setup their dataset to be used for classification:\n",
    "\n",
    "- First, download the boston dataset from **scikit-learn**.\n",
    "    - They should have a module that allows you to download it directly: [load_boston](https://scikit-learn.org/stable/modules/generated/sklearn.datasets.load_boston.html)\n",
    "    - After calling **load_boston()**, it should return a dictionary-like object that contains information.\n",
    "    - The data itself is found in the **.data** item in the dictionary.\n",
    "    \n",
    "- Notice that .data has shape **(506,13)**. It does not have any given labels, but we will create our own synthetic labels.\n",
    "    - Extract the first column from this matrix (i.e. index 0). \n",
    "    - Calculate the median of this column.\n",
    "    \n",
    "- Now we will assign our own **y** based on the following:\n",
    "    - Assign a class of **0** to each sample (row) if the first column is **less than** the above median.\n",
    "    - Assign **1** otherwise (i.e. it has a value **greater than or equal to** the median).\n",
    "    \n",
    "- Finally, we will define our dataset:\n",
    "    - **X**: all data samples using every feature **EXCEPT** for the first column. \n",
    "        - This should have shape (506,12)\n",
    "    - **y**: created from the previous step.\n",
    "\n",
    "Useful modules:\n",
    "    - sklearn.datasets.load_boston\n",
    "    - np.median\n"
   ]
  },
  {
   "cell_type": "code",
   "execution_count": 3,
   "metadata": {},
   "outputs": [
    {
     "name": "stdout",
     "output_type": "stream",
     "text": [
      "(506, 13)\n",
      "        0     1     2    3      4      5     6       7    8      9     10  \\\n",
      "0  0.00632  18.0  2.31  0.0  0.538  6.575  65.2  4.0900  1.0  296.0  15.3   \n",
      "1  0.02731   0.0  7.07  0.0  0.469  6.421  78.9  4.9671  2.0  242.0  17.8   \n",
      "2  0.02729   0.0  7.07  0.0  0.469  7.185  61.1  4.9671  2.0  242.0  17.8   \n",
      "3  0.03237   0.0  2.18  0.0  0.458  6.998  45.8  6.0622  3.0  222.0  18.7   \n",
      "4  0.06905   0.0  2.18  0.0  0.458  7.147  54.2  6.0622  3.0  222.0  18.7   \n",
      "\n",
      "       11    12  \n",
      "0  396.90  4.98  \n",
      "1  396.90  9.14  \n",
      "2  392.83  4.03  \n",
      "3  394.63  2.94  \n",
      "4  396.90  5.33  \n"
     ]
    },
    {
     "name": "stderr",
     "output_type": "stream",
     "text": [
      "c:\\users\\sean\\appdata\\local\\programs\\python\\python35\\lib\\site-packages\\sklearn\\cross_validation.py:44: DeprecationWarning: This module was deprecated in version 0.18 in favor of the model_selection module into which all the refactored classes and functions are moved. Also note that the interface of the new CV iterators are different from that of this module. This module will be removed in 0.20.\n",
      "  \"This module will be removed in 0.20.\", DeprecationWarning)\n"
     ]
    }
   ],
   "source": [
    "import numpy as np\n",
    "import matplotlib.pyplot as plt\n",
    "import sklearn\n",
    "import pandas as pd\n",
    "# setting seed, DON'T modify\n",
    "import sklearn.cross_validation\n",
    "np.random.seed(10)\n",
    "from pylab import rcParams\n",
    "rcParams['figure.figsize'] = 10, 7\n",
    "\n",
    "# part a\n",
    "\n",
    "from sklearn.datasets import load_boston\n",
    "boston = load_boston()\n",
    "print(boston.data.shape)\n",
    "\n",
    "bos = pd.DataFrame(boston.data)\n",
    "print(bos.head())\n",
    "bos.columns = boston.feature_names\n",
    "#bos['PRICE'] = boston.target\n",
    "medianCol1 = bos['CRIM'].median()\n",
    "price = bos['CRIM']\n",
    "\n",
    "price[price >= medianCol1] = 1\n",
    "price[price < medianCol1] = 0\n",
    "\n",
    "#X = bos.drop('PRICE', axis = 1)\n",
    "X = bos.drop('CRIM', axis = 1)\n",
    "Y = price\n"
   ]
  },
  {
   "cell_type": "markdown",
   "metadata": {},
   "source": [
    "### Part B.\n",
    "\n",
    "Now we will train two separate classifiers for this task -- Logistic Regression and Linear Discriminant Analysis, using scikit-learn.\n",
    "\n",
    "- As usual, divide X,y into separate training/testing sets.\n",
    "    - Use the **first 400 samples** as **Xtrain, ytrain**\n",
    "    - Use the **next 106 samples** as **Xtest, ytest**\n",
    "    \n",
    "- Now create a logistic regression model using scikit-learn, and train it on the **training set**.\n",
    "    - This will be similar to the previous homework, but using their logistic regression module.\n",
    "    - Only use the default parameters (i.e. don't pass any extra parameters to the scikit-learn module)\n",
    "    - Measure the following **prediction error** i.e. (1-accuracy) on the **test set**.\n",
    "    \n",
    "- Now create an LDA model using scikit-learn, and repeat the steps above.\n",
    "\n",
    "- For ease of grading, please create a **bar chart** that shows the error of both the LogisticRegression and LDA models. \n",
    "    - Make sure to label each bar accordingly and include a legend.\n",
    "\n",
    "Useful modules:\n",
    "    - sklearn.linear_model.LogisticRegression\n",
    "    - sklearn.discriminant_analysis.LinearDiscriminantAnalysis\n",
    "    - plt.bar\n",
    "    - plt.legend\n"
   ]
  },
  {
   "cell_type": "code",
   "execution_count": 4,
   "metadata": {},
   "outputs": [
    {
     "name": "stdout",
     "output_type": "stream",
     "text": [
      "(400, 12)\n",
      "(106, 12)\n",
      "(400,)\n",
      "(106,)\n"
     ]
    },
    {
     "data": {
      "text/plain": [
       "<matplotlib.text.Text at 0x12e179b0>"
      ]
     },
     "execution_count": 4,
     "metadata": {},
     "output_type": "execute_result"
    },
    {
     "data": {
      "image/png": "[encoded data removed]",
      "text/plain": [
       "<matplotlib.figure.Figure at 0x107a7f98>"
      ]
     },
     "metadata": {},
     "output_type": "display_data"
    }
   ],
   "source": [
    "split = 400/506\n",
    "split2 = 106/506\n",
    "\n",
    "X_train = X.iloc[:400, :]\n",
    "X_test = X.iloc[400:, :]\n",
    "\n",
    "Y_train = Y.iloc[:400]\n",
    "Y_test = Y.iloc[400:]\n",
    "\n",
    "#X_train, X_test, Y_train, Y_test = sklearn.cross_validation.train_test_split(X, Y, test_size = split2)\n",
    "print(X_train.shape)\n",
    "print(X_test.shape)\n",
    "print(Y_train.shape)\n",
    "print(Y_test.shape)\n",
    "from sklearn.linear_model import LogisticRegression\n",
    "from sklearn.discriminant_analysis import LinearDiscriminantAnalysis\n",
    "#clf = LogisticRegression(random_state=0, solver='lbfgs', multi_class='multinomial')\n",
    "clf = LogisticRegression(random_state=11)\n",
    "clf2 = clf.fit(X_train, Y_train)\n",
    "Y_predicted_acc = clf2.score(X_test, Y_test)\n",
    "\n",
    "pred_err = 1 - Y_predicted_acc\n",
    "\n",
    "\n",
    "# LDA\n",
    "\n",
    "from sklearn.preprocessing import StandardScaler\n",
    "\n",
    "#sc = StandardScaler()\n",
    "#X_train2 = sc.fit_transform(X_train)\n",
    "#X_test2 = sc.transform(X_test)\n",
    "\n",
    "clf_LDA = LinearDiscriminantAnalysis(n_components=1)\n",
    "clf_LDA2 = clf_LDA.fit(X_train, Y_train)\n",
    "#X_test2 = clf_LDA.transform(X_test2)\n",
    "\n",
    "LDA_acc = clf_LDA2.score(X_test, Y_test)\n",
    "\n",
    "pred_err_LDA = 1 - LDA_acc\n",
    "\n",
    "# GRAPHS\n",
    "objects = ('Logistic', 'LDA')\n",
    "y_pos = np.arange(len(objects))\n",
    "performance = [pred_err, pred_err_LDA]\n",
    "plt.figure(0)\n",
    "plt.bar(y_pos, performance, align='center', alpha=0.5)\n",
    "plt.xticks(y_pos, objects)\n",
    "plt.ylabel('Usage')\n",
    "plt.title('Prediction Error')\n"
   ]
  },
  {
   "cell_type": "markdown",
   "metadata": {},
   "source": [
    "### Part C.\n",
    "\n",
    "For this last section, we will be running an experiment that measures the effect of the # of training samples vs. the test set error. \n",
    "\n",
    "**Note:** In this section, make sure to keep your **test set constant**, and only do the following operations on the **train set**.\n",
    "\n",
    "Let our possible $n = [100,200,300,400]$. For **BOTH** LogisticRegression and LDA, and for each $n$, do the following:\n",
    "\n",
    "- Take a random sample from the training set of size $n$. Assign these to new variables, do not overwrite the original training set.\n",
    "\n",
    "- Now train your model using this smaller random sample. \n",
    "\n",
    "- Collect the **test prediction error**. \n",
    "\n",
    "- Now, repeat the above steps **10 times**. Find the mean for these prediction error samples, and the standard deviation.\n",
    "\n",
    "Once you have collected the mean prediction error and standard deviations for each $n$ and for each model you will now visualize:\n",
    "\n",
    "- Create a bar plot with the **x-axis** as $n$ and the **y-axis** mean test prediction error.\n",
    "\n",
    "- This bar plot should contain the following:\n",
    "    - Two bars for each $n$, one for LogisticRegression, the other LDA. Make them different colors.\n",
    "    - In addition add in **error bars** based on your computed standard deviations.\n",
    "    - Include a legend, and axis titles.\n",
    "\n",
    "Useful modules:\n",
    "    - sklearn.linear_model.LogisticRegression\n",
    "    - sklearn.discriminant_analysis.LinearDiscriminantAnalysis\n",
    "    - np.std\n",
    "    - np.mean\n",
    "    - plt.bar\n",
    "    - plt.legend\n"
   ]
  },
  {
   "cell_type": "code",
   "execution_count": 5,
   "metadata": {},
   "outputs": [
    {
     "data": {
      "image/png": "[encoded data removed]",
      "text/plain": [
       "<matplotlib.figure.Figure at 0x1302aba8>"
      ]
     },
     "metadata": {},
     "output_type": "display_data"
    }
   ],
   "source": [
    "# PART C\n",
    "\n",
    "n = [100,200,300,400]\n",
    "\n",
    "pred_error_sample_log_n = []\n",
    "pred_error_sample_lda_n = []\n",
    "colors= ['b', 'g','r','c','m', 'y', 'k']\n",
    "i =0\n",
    "plt.figure(2)\n",
    "for n_value in n:\n",
    "    pred_error_sample_log = []\n",
    "    pred_error_sample_lda = []\n",
    "    for j in range(0,10):\n",
    "        split2 = n_value/506\n",
    "        X_train, X_test, Y_train, Y_test = sklearn.cross_validation.train_test_split(X, Y, test_size=split2,random_state=j*10)\n",
    "        #X_train_sample = X_train.sample(n = n_value)\n",
    "        clf = LogisticRegression(solver='lbfgs', multi_class='multinomial')\n",
    "        clf2 = clf.fit(X_train, Y_train)\n",
    "        Y_predicted_acc = clf.score(X_test, Y_test)\n",
    "\n",
    "        pred_err3 = 1 - Y_predicted_acc\n",
    "\n",
    "        pred_error_sample_log.append(pred_err3)\n",
    "\n",
    "        # LDA\n",
    "\n",
    "        #sc = StandardScaler()\n",
    "        #X_train2 = sc.fit_transform(X_train)\n",
    "        #X_test2 = sc.transform(X_test)\n",
    "\n",
    "        clf_LDA = LinearDiscriminantAnalysis(n_components=1)\n",
    "        clf_LDA.fit_transform(X_train, Y_train)\n",
    "        # X_test2 = clf_LDA.transform(X_test2)\n",
    "\n",
    "        LDA_acc = clf_LDA.score(X_test, Y_test)\n",
    "\n",
    "        pred_err_LDA2 = 1 - LDA_acc\n",
    "\n",
    "        pred_error_sample_lda.append(pred_err_LDA2)\n",
    "    log1 = np.asarray(pred_error_sample_log)\n",
    "    lda1 = np.asarray(pred_error_sample_lda)\n",
    "\n",
    "    mean1 = log1.mean()\n",
    "    mean2= lda1.mean()\n",
    "\n",
    "    std1 = log1.std()\n",
    "    std2 = lda1.std()\n",
    "\n",
    "    objects = ('Logistic', 'LDA')\n",
    "    y_pos = np.arange(len(objects))\n",
    "\n",
    "    performance  = [mean1, mean2]\n",
    "    performance_deviation = [std1, std2]\n",
    "\n",
    "\n",
    "\n",
    "    plt.bar(y_pos + (i*2), performance, yerr = performance_deviation,align='center', alpha=0.5, label=\"Iterations %d\" % n_value)\n",
    "    plt.xticks(y_pos, objects)\n",
    "    plt.ylabel('Usage')\n",
    "    plt.title('Prediction Error')\n",
    "\n",
    "    i = i +1\n",
    "\n",
    "plt.legend(loc='upper left')\n",
    "\n",
    "i = i +1"
   ]
  },
  {
   "cell_type": "markdown",
   "metadata": {},
   "source": [
    "## Turn in Instructions"
   ]
  },
  {
   "cell_type": "markdown",
   "metadata": {},
   "source": [
    "Once you have completed Problems 1 and 2, please submit (for this part of the assignment):\n",
    "\n",
    "- This .ipynb file.\n",
    "- A PDF version of this file. To do this:\n",
    "    1. Go to File -> Download as -> HTML\n",
    "    2. Open the HTML and Print, and change the **destination** to **PDF**."
   ]
  }
 ],
 "metadata": {
  "kernelspec": {
   "display_name": "Python 3",
   "language": "python",
   "name": "python3"
  },
  "language_info": {
   "codemirror_mode": {
    "name": "ipython",
    "version": 3
   },
   "file_extension": ".py",
   "mimetype": "text/x-python",
   "name": "python",
   "nbconvert_exporter": "python",
   "pygments_lexer": "ipython3",
   "version": "3.5.2"
  }
 },
 "nbformat": 4,
 "nbformat_minor": 2
}
