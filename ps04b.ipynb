{
 "cells": [
  {
   "cell_type": "code",
   "execution_count": null,
   "metadata": {},
   "outputs": [],
   "source": [
    "### Put your NAME and EID here:"
   ]
  },
  {
   "cell_type": "markdown",
   "metadata": {},
   "source": [
    "# Problem Set 04b"
   ]
  },
  {
   "cell_type": "markdown",
   "metadata": {},
   "source": [
    "Make sure you have the following packages installed for Python3:\n",
    "\n",
    "- scikit-learn\n",
    "- numpy\n",
    "- matplotlib"
   ]
  },
  {
   "cell_type": "code",
   "execution_count": null,
   "metadata": {},
   "outputs": [],
   "source": [
    "# imports needed\n",
    "import numpy as np\n",
    "import matplotlib.pyplot as plt\n",
    "\n",
    "# setting seed, DON'T modify\n",
    "np.random.seed(10)\n",
    "from pylab import rcParams\n",
    "rcParams['figure.figsize'] = 10, 7"
   ]
  },
  {
   "cell_type": "markdown",
   "metadata": {},
   "source": [
    "## Problem 1: KNN on MNIST"
   ]
  },
  {
   "cell_type": "markdown",
   "metadata": {},
   "source": [
    "### Part A."
   ]
  },
  {
   "cell_type": "markdown",
   "metadata": {},
   "source": [
    "In this homework, you will get some hands on experience with the popular MNIST (handwritten digits) dataset.\n",
    "\n",
    "We have prepared a subset for you to run the K-NearestNeighbors algorithm on, so do the following:\n",
    "\n",
    "1. Load in the **data.npy** file.\n",
    "    - This should contain a dictionary, so make sure to call .item() first.\n",
    "    - It should have keys:\n",
    "        - 'Xtrain' - training set images\n",
    "        - 'Ytrain' - training set labels\n",
    "        - 'Xtest' - testing set images\n",
    "        - 'Ytest' - testing set labels\n",
    "        \n",
    "2. Now, take a sample of **5 images** from the training set. Do the following:\n",
    "    1. First, reshape each image into (28x28) matrices. They come in as (784,) arrays by default.\n",
    "    2. Plot each individually using plt.imshow. Make sure to **title each** using its true label.\n",
    "        - This should be automatic, i.e. no handlabeling the images.\n",
    "\n",
    "\n",
    "Useful modules:\n",
    "    - np.load\n",
    "    - np.random.choice\n",
    "    - plt.imshow\n"
   ]
  },
  {
   "cell_type": "code",
   "execution_count": null,
   "metadata": {},
   "outputs": [],
   "source": [
    "# Code here"
   ]
  },
  {
   "cell_type": "markdown",
   "metadata": {},
   "source": [
    "### Part B."
   ]
  },
  {
   "cell_type": "markdown",
   "metadata": {},
   "source": [
    "Now we will train a simple KNN model.\n",
    "\n",
    "1. First, extract the **first 900** images from the training set. We will only use these to train for now.\n",
    "\n",
    "2. Create a KNN model using scikit-learn, and train it on the 900 images from step 1.\n",
    "\n",
    "3. Evaluate the **test set error.**\n",
    "\n",
    "4. Now test the **n_neighbors parameter** for KNN using [1,3,5,7,9]. Evaluate each test set error.\n",
    "\n",
    "5. Finally, plot the **test set error vs. n_neighbors**. Make sure to label the axes.\n",
    "\n",
    "Useful modules:\n",
    "    - sklearn.neighbors.KNeighborsClassifier\n",
    "    - plt.plot\n"
   ]
  },
  {
   "cell_type": "code",
   "execution_count": null,
   "metadata": {},
   "outputs": [],
   "source": [
    "# Code here"
   ]
  },
  {
   "cell_type": "markdown",
   "metadata": {},
   "source": [
    "### Part C.\n",
    "\n",
    "Lastly, we want you to measure changes in performance as the training data increases. \n",
    "\n",
    "Notice that the original training dataset only contained 900 sample points, and in Part C, you will expand training to the rest. The additional data points are actually results of **data augmentation**, i.e. transformations of the first 900 images. \n",
    "\n",
    "- To set up the experiment, set up **5 groups**, defined by n_neighbors = [1,3,5,7,9].\n",
    "\n",
    "- For each group, do the following for different sizes n=[900,1200,1500,1800,2100,2400,2700]:\n",
    "\n",
    "1. Extract the first $n$ datapoints from Xtrain and Ytrain.\n",
    "\n",
    "2. Train a KNN model using the current n_neighbors parameter on these datapoints.\n",
    "\n",
    "3. Evaluate the **test set error**. Record to plot later.\n",
    "\n",
    "\n",
    "Once the data has been collected, please create a **single plot** with the following:\n",
    "\n",
    "- For each **n_neighbor** value, plot **training data size vs. test set error**. \n",
    "\n",
    "    - This should be a simple line plot. To make it clearer, you can also overlay a scatter plot to emphasize the data points.\n",
    "    \n",
    "    - Please include a legend labeling what each line represents for **n_neighbors**.\n",
    "    \n",
    "\n",
    "Useful modules:\n",
    "    - sklearn.neighbors.KNeighborsClassifier\n",
    "    - plt.plot\n",
    "    - plt.scatter\n",
    "    - plt.legend\n",
    "\n"
   ]
  },
  {
   "cell_type": "code",
   "execution_count": null,
   "metadata": {},
   "outputs": [],
   "source": [
    "# Code here"
   ]
  },
  {
   "cell_type": "markdown",
   "metadata": {},
   "source": [
    "## Turn in Instructions"
   ]
  },
  {
   "cell_type": "markdown",
   "metadata": {},
   "source": [
    "Once you have completed Problems 1 and 2, please submit (for this part of the assignment):\n",
    "\n",
    "- This .ipynb file.\n",
    "- A PDF version of this file. To do this:\n",
    "    1. Go to File -> Download as -> HTML\n",
    "    2. Open the HTML and Print, and change the **destination** to **PDF**."
   ]
  }
 ],
 "metadata": {
  "kernelspec": {
   "display_name": "Python 3",
   "language": "python",
   "name": "python3"
  },
  "language_info": {
   "codemirror_mode": {
    "name": "ipython",
    "version": 3
   },
   "file_extension": ".py",
   "mimetype": "text/x-python",
   "name": "python",
   "nbconvert_exporter": "python",
   "pygments_lexer": "ipython3",
   "version": "3.6.4"
  }
 },
 "nbformat": 4,
 "nbformat_minor": 2
}
